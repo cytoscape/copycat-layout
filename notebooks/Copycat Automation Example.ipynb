{
 "cells": [
  {
   "cell_type": "markdown",
   "metadata": {},
   "source": [
    "# Copycat Layout via CyREST\n",
    "This python notebook gives instructions and sample code for calling copycat layout through Cytoscape CyREST endpoints.\n",
    "\n",
    "### Requirements:\n",
    "1. [Install Cytoscape](http://cytoscape.org/download.php) and run the application\n",
    "    1. Copycat Layout is a core app in 3.6.0 and is available upon installation. If not already installed, get it from the [App store](http://apps.cytoscape.org/apps/copycatlayout)\n",
    "    \n",
    "2. Verify that your CyREST port has not been changed. To check, open Cytoscape, go to `Edit>Preferences>Properties` and look for the `rest.port` property. The default port is `1234`. Set the `REST_PORT` variable below to that value\n",
    "3. Install the requests python module via PyPi by running `pip install requests` in the terminal\n",
    "\n",
    "Follow the code in this notebook to utilize the Copycat Layout via python scripts!"
   ]
  },
  {
   "cell_type": "code",
   "execution_count": 1,
   "metadata": {
    "collapsed": true
   },
   "outputs": [],
   "source": [
    "REST_PORT='1234'\n",
    "REST_ENDPOINT = \"http://localhost:{}/v1\".format(REST_PORT)\n",
    "import requests\n",
    "import json"
   ]
  },
  {
   "cell_type": "markdown",
   "metadata": {},
   "source": [
    "### 1. Verify that CyREST is running,\n",
    "We can do this by calling the bare CyREST endpoint and checking the version."
   ]
  },
  {
   "cell_type": "code",
   "execution_count": 2,
   "metadata": {},
   "outputs": [
    {
     "name": "stdout",
     "output_type": "stream",
     "text": [
      "CyREST v1 is running!\n"
     ]
    }
   ],
   "source": [
    "response = requests.get(REST_ENDPOINT)\n",
    "js_resp = response.json()\n",
    "assert js_resp['apiVersion'] == 'v1', \\\n",
    "    \"This notebook uses CyREST API v1, but version {} was found.\".format(js_resp['apiVersion'])\n",
    "\n",
    "print(\"CyREST v1 is running!\")"
   ]
  },
  {
   "cell_type": "markdown",
   "metadata": {},
   "source": [
    "### 2. Load the sample session into Cytoscape\n",
    "The sample.cys session file located within this repo contains 2 networks. Images of the networks will be displayed below.\n",
    "\n",
    "Note that the `sample_modified` network is a clone of the `sample` network, with the `H` node removed, and nodes `N` and `O` appended to the network. Edges were added connecting the new nodes, and an edge from `G`->`M` was removed."
   ]
  },
  {
   "cell_type": "code",
   "execution_count": 3,
   "metadata": {},
   "outputs": [
    {
     "name": "stdout",
     "output_type": "stream",
     "text": [
      "Loading sample at /Users/bsettle/git/copycat-layout/notebooks/sample.cys\n",
      "Load successful. Check Cytoscape to see two networks\n"
     ]
    }
   ],
   "source": [
    "# Load sample session\n",
    "import os\n",
    "path = os.path.join(os.getcwd(), 'sample.cys')\n",
    "print(\"Loading sample at \" + path)\n",
    "session_data = {'file': path}\n",
    "resp = requests.get(REST_ENDPOINT + \"/session\", params=session_data)\n",
    "assert 'message' not in resp.json(), resp.json()['message']\n",
    "\n",
    "print(\"Load successful. Check Cytoscape to see two networks\")"
   ]
  },
  {
   "cell_type": "markdown",
   "metadata": {},
   "source": [
    "### 3. Get network and view SUIDs from Cytoscape\n",
    "Because SUIDs are consistent among session file import/export, we could use hard coded values for the SUIDs. This code is included for the convenience of users who are not working with a consistent session file.\n",
    "\n",
    "The first REST call gets the SUIDs of both networks, and then we use those to get the SUID of each respective network view and store them in a python dictionary"
   ]
  },
  {
   "cell_type": "code",
   "execution_count": 16,
   "metadata": {},
   "outputs": [
    {
     "name": "stdout",
     "output_type": "stream",
     "text": [
      "{'source': {'suid': 5372, 'view_suid': 5606}, 'target': {'suid': 5454, 'view_suid': 5549}}\n"
     ]
    }
   ],
   "source": [
    "resp = requests.get(REST_ENDPOINT + \"/networks\")\n",
    "network_suids = resp.json()\n",
    "suid_map = {'source': {'suid': network_suids[0]}, 'target': {'suid': network_suids[1]}}\n",
    "\n",
    "resp = requests.get(\"{}/networks/{}/views\".format(REST_ENDPOINT, suid_map['source']['suid']))\n",
    "suid_map['source']['view_suid'] = resp.json()[0] # only one view exists\n",
    "\n",
    "resp = requests.get(\"{}/networks/{}/views\".format(REST_ENDPOINT, suid_map['target']['suid']))\n",
    "suid_map['target']['view_suid'] = resp.json()[0] # only one view exists\n",
    "\n",
    "print(suid_map)"
   ]
  },
  {
   "cell_type": "markdown",
   "metadata": {},
   "source": [
    "#### EXTRA: Display network views in the notebook\n",
    "The `views/{viewSUID}.png` endpoint returns an image of the network view so we can see how different our networks are.  Looking at the two images below, it would take significant time to realize that the networks are nearly identical.\n",
    "Copycat Layout will fix that!"
   ]
  },
  {
   "cell_type": "code",
   "execution_count": 5,
   "metadata": {},
   "outputs": [
    {
     "name": "stdout",
     "output_type": "stream",
     "text": [
      "Source Network View (SUID=5298)\n"
     ]
    },
    {
     "data": {
      "text/html": [
       "<img src=\"http://localhost:1234/v1/networks/5064/views/5298.png?view=0\"/>"
      ],
      "text/plain": [
       "<IPython.core.display.Image object>"
      ]
     },
     "metadata": {},
     "output_type": "display_data"
    },
    {
     "name": "stdout",
     "output_type": "stream",
     "text": [
      "Target Network View (SUID=5241)\n"
     ]
    },
    {
     "data": {
      "text/html": [
       "<img src=\"http://localhost:1234/v1/networks/5146/views/5241.png?view=0\"/>"
      ],
      "text/plain": [
       "<IPython.core.display.Image object>"
      ]
     },
     "metadata": {},
     "output_type": "display_data"
    }
   ],
   "source": [
    "from IPython.display import Image, display, HTML\n",
    "VIEWS = 0 # handles cached images\n",
    "def show_networks():\n",
    "    global VIEWS\n",
    "    sourceSUID = suid_map['source']['suid']\n",
    "    sourceViewSUID = suid_map['source']['view_suid']\n",
    "    targetSUID = suid_map['target']['suid']\n",
    "    targetViewSUID = suid_map['target']['view_suid']\n",
    "    \n",
    "    print(\"Source Network View (SUID={})\".format(sourceViewSUID))\n",
    "    url1 = \"{}/networks/{}/views/{}.png?view={}\".format(REST_ENDPOINT, sourceSUID, sourceViewSUID, VIEWS)\n",
    "    im1 = Image(url=url1)\n",
    "    display(im1)\n",
    "    print(\"Target Network View (SUID={})\".format(targetViewSUID))\n",
    "    url2 = \"{}/networks/{}/views/{}.png?view={}\".format(REST_ENDPOINT, targetSUID, targetViewSUID, VIEWS)\n",
    "    im2 = Image(url=url2)\n",
    "    display(im2)\n",
    "    \n",
    "    VIEWS += 1\n",
    "    \n",
    "show_networks()"
   ]
  },
  {
   "cell_type": "markdown",
   "metadata": {},
   "source": [
    "### 4. Apply Copycat Layout\n",
    "We are going to map node locations form the source network to the target, using the `name` column in each network to pair nodes.  Upon completion, the node named 'A' in the target network will be in the same exact location as the 'A' node in the source network.  The `'selectUnmapped'` parameter is set to `True`, highlighting the differences between the two networks. Currently only unmapped nodes are highlighted."
   ]
  },
  {
   "cell_type": "code",
   "execution_count": 15,
   "metadata": {},
   "outputs": [
    {
     "name": "stdout",
     "output_type": "stream",
     "text": [
      "Mapped 12 nodes, left 2 unmapped in the target network\n"
     ]
    }
   ],
   "source": [
    "# Prepare layout data\n",
    "data = {\n",
    "  \"sourceColumn\": \"name\",\n",
    "  \"targetColumn\": \"name\",\n",
    "  \"selectUnmapped\": True,\n",
    "  \"gridUnmapped\": False\n",
    "}\n",
    "resp = requests.put(\"{}/apply/layouts/copycat/{}/{}\".format(REST_ENDPOINT, \\\n",
    "            suid_map['source']['view_suid'], suid_map['target']['view_suid']), params=data)\n",
    "data = resp.json()['data']\n",
    "\n",
    "print(\"Mapped {} nodes, left {} unmapped in the target network\".format(data['mappedNodeCount'], data['unmappedNodeCount']))"
   ]
  },
  {
   "cell_type": "markdown",
   "metadata": {},
   "source": [
    "### Compare the networks now\n",
    "The minor differences between the two networks are much easier to see at a glance. The unmapped nodes are highlighted, and can easily be dragged off to the side, or apply a different layout (eg GridLayout)."
   ]
  },
  {
   "cell_type": "code",
   "execution_count": 14,
   "metadata": {},
   "outputs": [
    {
     "name": "stdout",
     "output_type": "stream",
     "text": [
      "Source Network View (SUID=5298)\n"
     ]
    },
    {
     "data": {
      "text/html": [
       "<img src=\"http://localhost:1234/v1/networks/5064/views/5298.png?view=3\"/>"
      ],
      "text/plain": [
       "<IPython.core.display.Image object>"
      ]
     },
     "metadata": {},
     "output_type": "display_data"
    },
    {
     "name": "stdout",
     "output_type": "stream",
     "text": [
      "Target Network View (SUID=5241)\n"
     ]
    },
    {
     "data": {
      "text/html": [
       "<img src=\"http://localhost:1234/v1/networks/5146/views/5241.png?view=3\"/>"
      ],
      "text/plain": [
       "<IPython.core.display.Image object>"
      ]
     },
     "metadata": {},
     "output_type": "display_data"
    }
   ],
   "source": [
    "show_networks()"
   ]
  },
  {
   "cell_type": "markdown",
   "metadata": {},
   "source": [
    "### Conclusion\n",
    "Now that the named nodes have been aligned, we can clearly see that nodes N and O are not in the first network, and node H is not in the second.  "
   ]
  }
 ],
 "metadata": {
  "kernelspec": {
   "display_name": "Python 3",
   "language": "python",
   "name": "python3"
  },
  "language_info": {
   "codemirror_mode": {
    "name": "ipython",
    "version": 3
   },
   "file_extension": ".py",
   "mimetype": "text/x-python",
   "name": "python",
   "nbconvert_exporter": "python",
   "pygments_lexer": "ipython3",
   "version": "3.6.1"
  }
 },
 "nbformat": 4,
 "nbformat_minor": 2
}
